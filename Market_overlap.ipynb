{
 "cells": [
  {
   "cell_type": "markdown",
   "metadata": {},
   "source": [
    "19th Jan"
   ]
  },
  {
   "cell_type": "markdown",
   "metadata": {},
   "source": [
    "Need to find the price movement when there is market overlap, between Asian, European and American markets, to explotit that information.\n"
   ]
  },
  {
   "cell_type": "code",
   "execution_count": 2,
   "metadata": {},
   "outputs": [],
   "source": [
    "import pandas as pd\n",
    "import numpy as np\n",
    "from scipy.signal import argrelextrema\n",
    "import matplotlib.pyplot as plt\n",
    "from untrade.client import Client"
   ]
  },
  {
   "cell_type": "code",
   "execution_count": 18,
   "metadata": {},
   "outputs": [],
   "source": [
    "data = pd.read_csv(\n",
    "    '/Users/tejasmacipad/Desktop/Final_inter_IIT_submission/Quant_Crypto_strat/Final_gitpush/architect/processed_data.csv',\n",
    "    # parse_dates=['datetime'],  # Parse the 'datetime' column as datetime\n",
    "    # index_col='datetime'       # Use 'datetime' as the index\n",
    ")\n",
    "\n",
    "data = pd.read_csv(\n",
    "    '/Users/tejasmacipad/Desktop/Final_inter_IIT_submission/BTC/BTC_2019_2023_1d.csv',\n",
    "    # parse_dates=['datetime'],  # Parse the 'datetime' column as datetime\n",
    "    # index_col='datetime'\n",
    ") "
   ]
  },
  {
   "cell_type": "code",
   "execution_count": 9,
   "metadata": {},
   "outputs": [
    {
     "name": "stdout",
     "output_type": "stream",
     "text": [
      "0.12.10b0\n"
     ]
    }
   ],
   "source": [
    "import mplfinance as mpf\n",
    "print(mpf.__version__)"
   ]
  },
  {
   "cell_type": "code",
   "execution_count": null,
   "metadata": {},
   "outputs": [],
   "source": [
    "import pandas as pd\n",
    "import talib\n",
    "import mplfinance as mpf\n",
    "import matplotlib.pyplot as plt\n",
    "\n",
    "# Load your data (replace 'your_data.csv' with your actual file)\n",
    "# data = pd.read_csv(\"your_data.csv\")\n",
    "data['datetime'] = pd.to_datetime(data['datetime'])  # Ensure datetime is properly formatted\n",
    "data.set_index('datetime', inplace=True)  # Set datetime as the index for plotting\n",
    "\n",
    "# List of candlestick patterns to detect\n",
    "candlestick_patterns = {\n",
    "    \"Doji\": talib.CDLDOJI,\n",
    "    \"Hammer\": talib.CDLHAMMER,\n",
    "    \"Engulfing\": talib.CDLENGULFING,\n",
    "    \"Marubozu\": talib.CDLMARUBOZU,\n",
    "    \"Shooting Star\": talib.CDLSHOOTINGSTAR,\n",
    "}\n",
    "\n",
    "# Detect patterns and store results\n",
    "for pattern_name, pattern_function in candlestick_patterns.items():\n",
    "    data[pattern_name] = pattern_function(data['open'], data['high'], data['low'], data['close'])\n",
    "\n",
    "\n",
    "def plot_pattern(data, pattern_name):\n",
    "    import matplotlib.pyplot as plt\n",
    "    \n",
    "    # Filter data where the pattern is detected\n",
    "    pattern_data = data[data['signals'] == pattern_name]\n",
    "    \n",
    "    for row in pattern_data.itertuples():\n",
    "        start_date = row.Index\n",
    "        end_date = start_date + pd.Timedelta(days=10)  # Adjust for the window you want to display\n",
    "        subset_data = data.loc[start_date:end_date]\n",
    "        \n",
    "        # Plot the candlestick chart\n",
    "        mpf.plot(\n",
    "            subset_data,\n",
    "            type='candle',\n",
    "            style='charles',\n",
    "            title=f\"{pattern_name} Pattern - {row.Index.date()}\",\n",
    "            savefig=f\"{pattern_name}_{row.Index.date()}.png\",\n",
    "            show_nontrading=True,\n",
    "        )\n",
    "        plt.scatter(\n",
    "            [row.Index],\n",
    "            [row.close],\n",
    "            color='red',\n",
    "            label=f'{pattern_name}',\n",
    "        )\n",
    "        plt.legend()\n",
    "        plt.show()\n",
    "\n",
    "# Plot detected patterns\n",
    "for pattern_name in candlestick_patterns.keys():\n",
    "    plot_pattern(data, pattern_name)\n",
    "\n",
    "# Save the full dataset with signals\n",
    "data.to_csv(\"candlestick_analysis_with_signals.csv\")\n",
    "\n",
    "#convert this to excel file\n",
    "data.to_excel(\"candlestick_analysis_with_signals.xlsx\")"
   ]
  },
  {
   "cell_type": "code",
   "execution_count": 19,
   "metadata": {},
   "outputs": [
    {
     "name": "stdout",
     "output_type": "stream",
     "text": [
      "Filtered data saved to CSV and Excel.\n"
     ]
    }
   ],
   "source": [
    "import pandas as pd\n",
    "import talib\n",
    "import mplfinance as mpf\n",
    "import matplotlib.pyplot as plt\n",
    "\n",
    "# Load your data (replace 'your_data.csv' with your actual file)\n",
    "# data = pd.read_csv(\"your_data.csv\")\n",
    "data['datetime'] = pd.to_datetime(data['datetime'])  # Ensure datetime is properly formatted\n",
    "data.set_index('datetime', inplace=True)  # Set datetime as the index for plotting\n",
    "\n",
    "# List of candlestick patterns to detect\n",
    "candlestick_patterns = {\n",
    "    \"Doji\": talib.CDLDOJI,\n",
    "    \"Hammer\": talib.CDLHAMMER,\n",
    "    \"Engulfing\": talib.CDLENGULFING,\n",
    "    \"Marubozu\": talib.CDLMARUBOZU,\n",
    "    \"Shooting Star\": talib.CDLSHOOTINGSTAR,\n",
    "}\n",
    "\n",
    "# Detect patterns and store results\n",
    "for pattern_name, pattern_function in candlestick_patterns.items():\n",
    "    data[pattern_name] = pattern_function(data['open'], data['high'], data['low'], data['close'])\n",
    "\n",
    "def plot_pattern(data, pattern_name):\n",
    "    import matplotlib.pyplot as plt\n",
    "    \n",
    "    # Filter data where the pattern is detected\n",
    "    pattern_data = data[data[pattern_name] != 0]  # Keep rows where pattern is detected\n",
    "\n",
    "    for row in pattern_data.itertuples():\n",
    "        start_date = row.Index\n",
    "        end_date = start_date + pd.Timedelta(days=10)  # Adjust for the window you want to display\n",
    "        subset_data = data.loc[start_date:end_date]\n",
    "\n",
    "        # Plot the candlestick chart\n",
    "        mpf.plot(\n",
    "            subset_data,\n",
    "            type='candle',\n",
    "            style='charles',\n",
    "            title=f\"{pattern_name} Pattern - {row.Index.date()}\",\n",
    "            savefig=f\"{pattern_name}_{row.Index.date()}.png\",\n",
    "            show_nontrading=True,\n",
    "        )\n",
    "        plt.scatter(\n",
    "            [row.Index],\n",
    "            [row.close],\n",
    "            color='red',\n",
    "            label=f'{pattern_name}',\n",
    "        )\n",
    "        plt.legend()\n",
    "        plt.show()\n",
    "\n",
    "# Plot detected patterns\n",
    "# for pattern_name in candlestick_patterns.keys():\n",
    "    # plot_pattern(data, pattern_name)\n",
    "\n",
    "# Filter out rows where **no pattern is detected**\n",
    "pattern_columns = list(candlestick_patterns.keys())\n",
    "filtered_data = data[(data[pattern_columns] != 0).any(axis=1)]\n",
    "\n",
    "# Save the filtered dataset with detected patterns\n",
    "filtered_data.to_csv(\"fcandlestick_analysis_with_signals.csv\")\n",
    "filtered_data.to_excel(\"fcandlestick_analysis_with_signals.xlsx\")\n",
    "\n",
    "print(\"Filtered data saved to CSV and Excel.\")"
   ]
  },
  {
   "cell_type": "code",
   "execution_count": 13,
   "metadata": {},
   "outputs": [
    {
     "name": "stdout",
     "output_type": "stream",
     "text": [
      "                     Unnamed: 0     open     high      low    close     volume\n",
      "datetime                                                                      \n",
      "2023-12-31 00:00:00        9446  42174.3  42478.9  42001.0  42209.4  24649.414\n",
      "2023-12-31 04:00:00        9447  42209.4  42729.2  42189.9  42567.0  27687.399\n",
      "2023-12-31 08:00:00        9448  42567.0  42951.0  42400.2  42561.8  37644.346\n",
      "2023-12-31 12:00:00        9449  42561.8  42694.0  42381.0  42489.6  29877.289\n",
      "2023-12-31 16:00:00        9450  42489.6  42766.7  42465.4  42659.9  21496.084\n",
      "2023-12-31 20:00:00        9451  42659.9  42724.5  42083.1  42314.0  32153.757\n"
     ]
    }
   ],
   "source": [
    "#data of 31st december 2023\n",
    "\n",
    "data_last = data.loc['2023-12-31']\n",
    "print(data_last)"
   ]
  },
  {
   "cell_type": "code",
   "execution_count": 14,
   "metadata": {},
   "outputs": [],
   "source": [
    "# 12:30 PM IST to 2:30 PM IST\n",
    "\n",
    "# 7:30 PM IST to 9:30 PM IST\n",
    "#in the frame of data_day, create a new column, which consists the difference between the open at 12:30 PM everyday and the close of 2:30PM of the same dat;\n",
    "#in the frame of data_day, create a one more new column, which consists the difference between the open at 7:30 PM everyday and the close of 9:30PM of the same data\n",
    "#this data is available in the frame data\n"
   ]
  },
  {
   "cell_type": "code",
   "execution_count": 15,
   "metadata": {},
   "outputs": [
    {
     "ename": "ValueError",
     "evalue": "Data must be 1-dimensional, got ndarray of shape (0, 6) instead",
     "output_type": "error",
     "traceback": [
      "\u001b[0;31m---------------------------------------------------------------------------\u001b[0m",
      "\u001b[0;31mValueError\u001b[0m                                Traceback (most recent call last)",
      "Cell \u001b[0;32mIn[15], line 11\u001b[0m\n\u001b[1;32m      4\u001b[0m diff_1230_1430 \u001b[38;5;241m=\u001b[39m data_1230_1430\u001b[38;5;241m.\u001b[39mgroupby(data_1230_1430\u001b[38;5;241m.\u001b[39mindex\u001b[38;5;241m.\u001b[39mdate)\u001b[38;5;241m.\u001b[39mapply(\n\u001b[1;32m      5\u001b[0m     \u001b[38;5;28;01mlambda\u001b[39;00m x: x\u001b[38;5;241m.\u001b[39miloc[\u001b[38;5;241m-\u001b[39m\u001b[38;5;241m1\u001b[39m][\u001b[38;5;124m'\u001b[39m\u001b[38;5;124mclose\u001b[39m\u001b[38;5;124m'\u001b[39m] \u001b[38;5;241m-\u001b[39m x\u001b[38;5;241m.\u001b[39miloc[\u001b[38;5;241m0\u001b[39m][\u001b[38;5;124m'\u001b[39m\u001b[38;5;124mopen\u001b[39m\u001b[38;5;124m'\u001b[39m]\n\u001b[1;32m      6\u001b[0m )\n\u001b[1;32m      7\u001b[0m diff_1930_2130 \u001b[38;5;241m=\u001b[39m data_1930_2130\u001b[38;5;241m.\u001b[39mgroupby(data_1930_2130\u001b[38;5;241m.\u001b[39mindex\u001b[38;5;241m.\u001b[39mdate)\u001b[38;5;241m.\u001b[39mapply(\n\u001b[1;32m      8\u001b[0m     \u001b[38;5;28;01mlambda\u001b[39;00m x: x\u001b[38;5;241m.\u001b[39miloc[\u001b[38;5;241m-\u001b[39m\u001b[38;5;241m1\u001b[39m][\u001b[38;5;124m'\u001b[39m\u001b[38;5;124mclose\u001b[39m\u001b[38;5;124m'\u001b[39m] \u001b[38;5;241m-\u001b[39m x\u001b[38;5;241m.\u001b[39miloc[\u001b[38;5;241m0\u001b[39m][\u001b[38;5;124m'\u001b[39m\u001b[38;5;124mopen\u001b[39m\u001b[38;5;124m'\u001b[39m]\n\u001b[1;32m      9\u001b[0m )\n\u001b[0;32m---> 11\u001b[0m diff_1230_1430 \u001b[38;5;241m=\u001b[39m \u001b[43mpd\u001b[49m\u001b[38;5;241;43m.\u001b[39;49m\u001b[43mSeries\u001b[49m\u001b[43m(\u001b[49m\u001b[43mdiff_1230_1430\u001b[49m\u001b[38;5;241;43m.\u001b[39;49m\u001b[43mvalues\u001b[49m\u001b[43m,\u001b[49m\u001b[43m \u001b[49m\u001b[43mindex\u001b[49m\u001b[38;5;241;43m=\u001b[39;49m\u001b[43mpd\u001b[49m\u001b[38;5;241;43m.\u001b[39;49m\u001b[43mto_datetime\u001b[49m\u001b[43m(\u001b[49m\u001b[43mdiff_1230_1430\u001b[49m\u001b[38;5;241;43m.\u001b[39;49m\u001b[43mindex\u001b[49m\u001b[43m)\u001b[49m\u001b[43m)\u001b[49m\n\u001b[1;32m     12\u001b[0m diff_1930_2130 \u001b[38;5;241m=\u001b[39m pd\u001b[38;5;241m.\u001b[39mSeries(diff_1930_2130\u001b[38;5;241m.\u001b[39mvalues, index\u001b[38;5;241m=\u001b[39mpd\u001b[38;5;241m.\u001b[39mto_datetime(diff_1930_2130\u001b[38;5;241m.\u001b[39mindex))\n\u001b[1;32m     14\u001b[0m data_day[\u001b[38;5;124m'\u001b[39m\u001b[38;5;124mdiff_1230_1430\u001b[39m\u001b[38;5;124m'\u001b[39m] \u001b[38;5;241m=\u001b[39m pd\u001b[38;5;241m.\u001b[39mSeries(diff_1230_1430)\n",
      "File \u001b[0;32m/Library/Frameworks/Python.framework/Versions/3.12/lib/python3.12/site-packages/pandas/core/series.py:584\u001b[0m, in \u001b[0;36mSeries.__init__\u001b[0;34m(self, data, index, dtype, name, copy, fastpath)\u001b[0m\n\u001b[1;32m    582\u001b[0m         data \u001b[38;5;241m=\u001b[39m data\u001b[38;5;241m.\u001b[39mcopy()\n\u001b[1;32m    583\u001b[0m \u001b[38;5;28;01melse\u001b[39;00m:\n\u001b[0;32m--> 584\u001b[0m     data \u001b[38;5;241m=\u001b[39m \u001b[43msanitize_array\u001b[49m\u001b[43m(\u001b[49m\u001b[43mdata\u001b[49m\u001b[43m,\u001b[49m\u001b[43m \u001b[49m\u001b[43mindex\u001b[49m\u001b[43m,\u001b[49m\u001b[43m \u001b[49m\u001b[43mdtype\u001b[49m\u001b[43m,\u001b[49m\u001b[43m \u001b[49m\u001b[43mcopy\u001b[49m\u001b[43m)\u001b[49m\n\u001b[1;32m    586\u001b[0m     manager \u001b[38;5;241m=\u001b[39m _get_option(\u001b[38;5;124m\"\u001b[39m\u001b[38;5;124mmode.data_manager\u001b[39m\u001b[38;5;124m\"\u001b[39m, silent\u001b[38;5;241m=\u001b[39m\u001b[38;5;28;01mTrue\u001b[39;00m)\n\u001b[1;32m    587\u001b[0m     \u001b[38;5;28;01mif\u001b[39;00m manager \u001b[38;5;241m==\u001b[39m \u001b[38;5;124m\"\u001b[39m\u001b[38;5;124mblock\u001b[39m\u001b[38;5;124m\"\u001b[39m:\n",
      "File \u001b[0;32m/Library/Frameworks/Python.framework/Versions/3.12/lib/python3.12/site-packages/pandas/core/construction.py:659\u001b[0m, in \u001b[0;36msanitize_array\u001b[0;34m(data, index, dtype, copy, allow_2d)\u001b[0m\n\u001b[1;32m    656\u001b[0m             subarr \u001b[38;5;241m=\u001b[39m cast(np\u001b[38;5;241m.\u001b[39mndarray, subarr)\n\u001b[1;32m    657\u001b[0m             subarr \u001b[38;5;241m=\u001b[39m maybe_infer_to_datetimelike(subarr)\n\u001b[0;32m--> 659\u001b[0m subarr \u001b[38;5;241m=\u001b[39m \u001b[43m_sanitize_ndim\u001b[49m\u001b[43m(\u001b[49m\u001b[43msubarr\u001b[49m\u001b[43m,\u001b[49m\u001b[43m \u001b[49m\u001b[43mdata\u001b[49m\u001b[43m,\u001b[49m\u001b[43m \u001b[49m\u001b[43mdtype\u001b[49m\u001b[43m,\u001b[49m\u001b[43m \u001b[49m\u001b[43mindex\u001b[49m\u001b[43m,\u001b[49m\u001b[43m \u001b[49m\u001b[43mallow_2d\u001b[49m\u001b[38;5;241;43m=\u001b[39;49m\u001b[43mallow_2d\u001b[49m\u001b[43m)\u001b[49m\n\u001b[1;32m    661\u001b[0m \u001b[38;5;28;01mif\u001b[39;00m \u001b[38;5;28misinstance\u001b[39m(subarr, np\u001b[38;5;241m.\u001b[39mndarray):\n\u001b[1;32m    662\u001b[0m     \u001b[38;5;66;03m# at this point we should have dtype be None or subarr.dtype == dtype\u001b[39;00m\n\u001b[1;32m    663\u001b[0m     dtype \u001b[38;5;241m=\u001b[39m cast(np\u001b[38;5;241m.\u001b[39mdtype, dtype)\n",
      "File \u001b[0;32m/Library/Frameworks/Python.framework/Versions/3.12/lib/python3.12/site-packages/pandas/core/construction.py:718\u001b[0m, in \u001b[0;36m_sanitize_ndim\u001b[0;34m(result, data, dtype, index, allow_2d)\u001b[0m\n\u001b[1;32m    716\u001b[0m     \u001b[38;5;28;01mif\u001b[39;00m allow_2d:\n\u001b[1;32m    717\u001b[0m         \u001b[38;5;28;01mreturn\u001b[39;00m result\n\u001b[0;32m--> 718\u001b[0m     \u001b[38;5;28;01mraise\u001b[39;00m \u001b[38;5;167;01mValueError\u001b[39;00m(\n\u001b[1;32m    719\u001b[0m         \u001b[38;5;124mf\u001b[39m\u001b[38;5;124m\"\u001b[39m\u001b[38;5;124mData must be 1-dimensional, got ndarray of shape \u001b[39m\u001b[38;5;132;01m{\u001b[39;00mdata\u001b[38;5;241m.\u001b[39mshape\u001b[38;5;132;01m}\u001b[39;00m\u001b[38;5;124m instead\u001b[39m\u001b[38;5;124m\"\u001b[39m\n\u001b[1;32m    720\u001b[0m     )\n\u001b[1;32m    721\u001b[0m \u001b[38;5;28;01mif\u001b[39;00m is_object_dtype(dtype) \u001b[38;5;129;01mand\u001b[39;00m \u001b[38;5;28misinstance\u001b[39m(dtype, ExtensionDtype):\n\u001b[1;32m    722\u001b[0m     \u001b[38;5;66;03m# i.e. NumpyEADtype(\"O\")\u001b[39;00m\n\u001b[1;32m    724\u001b[0m     result \u001b[38;5;241m=\u001b[39m com\u001b[38;5;241m.\u001b[39masarray_tuplesafe(data, dtype\u001b[38;5;241m=\u001b[39mnp\u001b[38;5;241m.\u001b[39mdtype(\u001b[38;5;124m\"\u001b[39m\u001b[38;5;124mobject\u001b[39m\u001b[38;5;124m\"\u001b[39m))\n",
      "\u001b[0;31mValueError\u001b[0m: Data must be 1-dimensional, got ndarray of shape (0, 6) instead"
     ]
    }
   ],
   "source": [
    "data_1230_1430 = data.between_time('12:30', '14:30')\n",
    "data_1930_2130 = data.between_time('19:30', '21:30')\n",
    "\n",
    "diff_1230_1430 = data_1230_1430.groupby(data_1230_1430.index.date).apply(\n",
    "    lambda x: x.iloc[-1]['close'] - x.iloc[0]['open']\n",
    ")\n",
    "diff_1930_2130 = data_1930_2130.groupby(data_1930_2130.index.date).apply(\n",
    "    lambda x: x.iloc[-1]['close'] - x.iloc[0]['open']\n",
    ")\n",
    "\n",
    "diff_1230_1430 = pd.Series(diff_1230_1430.values, index=pd.to_datetime(diff_1230_1430.index))\n",
    "diff_1930_2130 = pd.Series(diff_1930_2130.values, index=pd.to_datetime(diff_1930_2130.index))\n",
    "\n",
    "data_day['diff_1230_1430'] = pd.Series(diff_1230_1430)\n",
    "data_day['diff_1930_2130'] = pd.Series(diff_1930_2130)\n",
    "\n",
    "data_day['diff_open_close'] = data_day['close'] - data_day['open']\n",
    "\n",
    "data_day_new = data_day[['diff_1230_1430', 'diff_1930_2130', 'diff_open_close']].copy()\n",
    "\n",
    "print(data_day_new)\n"
   ]
  },
  {
   "cell_type": "markdown",
   "metadata": {},
   "source": [
    "There is some error with the day 1 data,because of the nan value\n",
    "\n",
    "this dataframe holds the price movement between the overlap of the markets.\n",
    "\n",
    "dropping the first day data because of the nan value"
   ]
  },
  {
   "cell_type": "code",
   "execution_count": 9,
   "metadata": {},
   "outputs": [
    {
     "ename": "NameError",
     "evalue": "name 'data_day_new' is not defined",
     "output_type": "error",
     "traceback": [
      "\u001b[0;31m---------------------------------------------------------------------------\u001b[0m",
      "\u001b[0;31mNameError\u001b[0m                                 Traceback (most recent call last)",
      "Cell \u001b[0;32mIn[9], line 2\u001b[0m\n\u001b[1;32m      1\u001b[0m \u001b[38;5;66;03m#gfetting the last day data;;\u001b[39;00m\n\u001b[0;32m----> 2\u001b[0m last_day_data \u001b[38;5;241m=\u001b[39m \u001b[43mdata_day_new\u001b[49m\u001b[38;5;241m.\u001b[39miloc[\u001b[38;5;241m-\u001b[39m\u001b[38;5;241m1\u001b[39m]\n\u001b[1;32m      3\u001b[0m \u001b[38;5;28mprint\u001b[39m(last_day_data)\n",
      "\u001b[0;31mNameError\u001b[0m: name 'data_day_new' is not defined"
     ]
    }
   ],
   "source": [
    "#gfetting the last day data;;\n",
    "last_day_data = data_day_new.iloc[-1]\n",
    "print(last_day_data)"
   ]
  },
  {
   "cell_type": "code",
   "execution_count": 7,
   "metadata": {},
   "outputs": [],
   "source": [
    "import plotly.graph_objects as go\n"
   ]
  },
  {
   "cell_type": "code",
   "execution_count": 8,
   "metadata": {},
   "outputs": [
    {
     "ename": "NameError",
     "evalue": "name 'data_day_new' is not defined",
     "output_type": "error",
     "traceback": [
      "\u001b[0;31m---------------------------------------------------------------------------\u001b[0m",
      "\u001b[0;31mNameError\u001b[0m                                 Traceback (most recent call last)",
      "Cell \u001b[0;32mIn[8], line 4\u001b[0m\n\u001b[1;32m      1\u001b[0m fig \u001b[38;5;241m=\u001b[39m go\u001b[38;5;241m.\u001b[39mFigure()\n\u001b[1;32m      3\u001b[0m fig\u001b[38;5;241m.\u001b[39madd_trace(go\u001b[38;5;241m.\u001b[39mScatter(\n\u001b[0;32m----> 4\u001b[0m     x\u001b[38;5;241m=\u001b[39m\u001b[43mdata_day_new\u001b[49m\u001b[38;5;241m.\u001b[39mindex,\n\u001b[1;32m      5\u001b[0m     y\u001b[38;5;241m=\u001b[39mdata_day_new[\u001b[38;5;124m'\u001b[39m\u001b[38;5;124mdiff_1230_1430\u001b[39m\u001b[38;5;124m'\u001b[39m],\n\u001b[1;32m      6\u001b[0m     mode\u001b[38;5;241m=\u001b[39m\u001b[38;5;124m'\u001b[39m\u001b[38;5;124mlines\u001b[39m\u001b[38;5;124m'\u001b[39m,\n\u001b[1;32m      7\u001b[0m     name\u001b[38;5;241m=\u001b[39m\u001b[38;5;124m'\u001b[39m\u001b[38;5;124mdiff_1230_1430\u001b[39m\u001b[38;5;124m'\u001b[39m\n\u001b[1;32m      8\u001b[0m ))\n\u001b[1;32m     10\u001b[0m fig\u001b[38;5;241m.\u001b[39madd_trace(go\u001b[38;5;241m.\u001b[39mScatter(\n\u001b[1;32m     11\u001b[0m     x\u001b[38;5;241m=\u001b[39mdata_day_new\u001b[38;5;241m.\u001b[39mindex,\n\u001b[1;32m     12\u001b[0m     y\u001b[38;5;241m=\u001b[39mdata_day_new[\u001b[38;5;124m'\u001b[39m\u001b[38;5;124mdiff_1930_2130\u001b[39m\u001b[38;5;124m'\u001b[39m],\n\u001b[1;32m     13\u001b[0m     mode\u001b[38;5;241m=\u001b[39m\u001b[38;5;124m'\u001b[39m\u001b[38;5;124mlines\u001b[39m\u001b[38;5;124m'\u001b[39m,\n\u001b[1;32m     14\u001b[0m     name\u001b[38;5;241m=\u001b[39m\u001b[38;5;124m'\u001b[39m\u001b[38;5;124mdiff_1930_2130\u001b[39m\u001b[38;5;124m'\u001b[39m\n\u001b[1;32m     15\u001b[0m ))\n\u001b[1;32m     17\u001b[0m fig\u001b[38;5;241m.\u001b[39madd_trace(go\u001b[38;5;241m.\u001b[39mScatter(\n\u001b[1;32m     18\u001b[0m     x\u001b[38;5;241m=\u001b[39mdata_day_new\u001b[38;5;241m.\u001b[39mindex,\n\u001b[1;32m     19\u001b[0m     y\u001b[38;5;241m=\u001b[39mdata_day_new[\u001b[38;5;124m'\u001b[39m\u001b[38;5;124mdiff_open_close\u001b[39m\u001b[38;5;124m'\u001b[39m],\n\u001b[1;32m     20\u001b[0m     mode\u001b[38;5;241m=\u001b[39m\u001b[38;5;124m'\u001b[39m\u001b[38;5;124mlines\u001b[39m\u001b[38;5;124m'\u001b[39m,\n\u001b[1;32m     21\u001b[0m     name\u001b[38;5;241m=\u001b[39m\u001b[38;5;124m'\u001b[39m\u001b[38;5;124mdiff_open_close\u001b[39m\u001b[38;5;124m'\u001b[39m\n\u001b[1;32m     22\u001b[0m ))\n",
      "\u001b[0;31mNameError\u001b[0m: name 'data_day_new' is not defined"
     ]
    }
   ],
   "source": [
    "fig = go.Figure()\n",
    "\n",
    "fig.add_trace(go.Scatter(\n",
    "    x=data_day_new.index,\n",
    "    y=data_day_new['diff_1230_1430'],\n",
    "    mode='lines',\n",
    "    name='diff_1230_1430'\n",
    "))\n",
    "\n",
    "fig.add_trace(go.Scatter(\n",
    "    x=data_day_new.index,\n",
    "    y=data_day_new['diff_1930_2130'],\n",
    "    mode='lines',\n",
    "    name='diff_1930_2130'\n",
    "))\n",
    "\n",
    "fig.add_trace(go.Scatter(\n",
    "    x=data_day_new.index,\n",
    "    y=data_day_new['diff_open_close'],\n",
    "    mode='lines',\n",
    "    name='diff_open_close'\n",
    "))\n",
    "\n",
    "fig.update_layout(\n",
    "    title=\"BTC Price Differences (12:30-14:30, 19:30-21:30, Open-Close)\",\n",
    "    xaxis_title=\"Date\",\n",
    "    yaxis_title=\"Price Difference\",\n",
    "    template=\"plotly_dark\"\n",
    ")\n",
    "\n",
    "fig.show()"
   ]
  },
  {
   "cell_type": "code",
   "execution_count": null,
   "metadata": {},
   "outputs": [],
   "source": []
  },
  {
   "cell_type": "code",
   "execution_count": null,
   "metadata": {},
   "outputs": [],
   "source": []
  }
 ],
 "metadata": {
  "kernelspec": {
   "display_name": "Python 3",
   "language": "python",
   "name": "python3"
  },
  "language_info": {
   "codemirror_mode": {
    "name": "ipython",
    "version": 3
   },
   "file_extension": ".py",
   "mimetype": "text/x-python",
   "name": "python",
   "nbconvert_exporter": "python",
   "pygments_lexer": "ipython3",
   "version": "3.12.4"
  }
 },
 "nbformat": 4,
 "nbformat_minor": 2
}
