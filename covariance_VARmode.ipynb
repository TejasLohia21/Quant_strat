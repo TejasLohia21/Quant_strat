{
 "cells": [
  {
   "cell_type": "code",
   "execution_count": 1,
   "metadata": {},
   "outputs": [],
   "source": [
    "import pandas as pd\n",
    "import numpy as np\n",
    "from scipy.signal import argrelextrema\n",
    "import matplotlib.pyplot as plt\n",
    "from untrade.client import Client\n",
    "import ta\n",
    "from sklearn.cluster import KMeans\n",
    "from sklearn.metrics import silhouette_score\n",
    "from sklearn.preprocessing import StandardScaler\n",
    "from arch import arch_model  # For GARCH model\n",
    "\n",
    "from sklearn.cluster import MiniBatchKMeans\n",
    "\n",
    "from scipy.stats import norm\n"
   ]
  },
  {
   "cell_type": "code",
   "execution_count": 5,
   "metadata": {},
   "outputs": [
    {
     "name": "stdout",
     "output_type": "stream",
     "text": [
      "9453\n",
      "8953\n"
     ]
    }
   ],
   "source": [
    "data_btc = pd.read_csv(\n",
    "    '/Users/tejasmacipad/Desktop/Final_inter_IIT_submission/BTC/BTC_2019_2023_4h.csv',\n",
    "    parse_dates=['datetime'],  # Parse the 'datetime' column as datetime\n",
    "    index_col='datetime'       # Use 'datetime' as the index\n",
    ")\n",
    "\n",
    "# print(data_btc.head())\n",
    "\n",
    "data_btc = data_btc.dropna()\n",
    "data_btc = data_btc[[\"close\"]].copy()\n",
    "\n",
    "\n",
    "data_eth = pd.read_csv(\n",
    "    '/Users/tejasmacipad/Desktop/Final_inter_IIT_submission/ETH/ETHUSDT_4h.csv',\n",
    "    parse_dates=['datetime'],  # Parse the 'datetime' column as datetime\n",
    "    index_col='datetime'       # Use 'datetime' as the index\n",
    ")\n",
    "data_eth = data_eth.dropna()\n",
    "data_eth = data_eth[[\"close\"]].copy()\n",
    "\n",
    "print(len(data_btc))\n",
    "print(len(data_eth))"
   ]
  },
  {
   "cell_type": "code",
   "execution_count": 31,
   "metadata": {},
   "outputs": [
    {
     "name": "stdout",
     "output_type": "stream",
     "text": [
      "corr 0.8945059921736337\n"
     ]
    }
   ],
   "source": [
    "#matching the data of both the data frames by their initial dates\n",
    "\n",
    "data_btc = data_btc.loc[data_eth.index[0]:]\n",
    "\n",
    "data_btc_mean = data_btc[\"close\"].mean()\n",
    "data_eth_mean = data_eth[\"close\"].mean()\n",
    "\n",
    "\n",
    "covariance = data_btc[\"close\"].cov(data_eth[\"close\"])\n",
    "variance_btc = data_btc[\"close\"].var()\n",
    "variance_eth = data_eth[\"close\"].var()\n",
    "\n",
    "print(\"corr\", covariance/(variance_btc*variance_eth)**0.5)\n"
   ]
  },
  {
   "cell_type": "code",
   "execution_count": 43,
   "metadata": {},
   "outputs": [
    {
     "name": "stdout",
     "output_type": "stream",
     "text": [
      "0.8348039763207863\n"
     ]
    },
    {
     "name": "stderr",
     "output_type": "stream",
     "text": [
      "/var/folders/55/_kpfspls6xq0pzzm_dl4ylxc0000gn/T/ipykernel_7186/198327255.py:3: FutureWarning: Series.__getitem__ treating keys as positions is deprecated. In a future version, integer keys will always be treated as labels (consistent with DataFrame behavior). To access a value by position, use `ser.iloc[pos]`\n",
      "  if data_btc[\"close\"][a] > data_btc[\"close\"][a-1]:\n",
      "/var/folders/55/_kpfspls6xq0pzzm_dl4ylxc0000gn/T/ipykernel_7186/198327255.py:7: FutureWarning: Series.__getitem__ treating keys as positions is deprecated. In a future version, integer keys will always be treated as labels (consistent with DataFrame behavior). To access a value by position, use `ser.iloc[pos]`\n",
      "  if data_eth[\"close\"][a] < data_eth[\"close\"][a-1]:\n",
      "/var/folders/55/_kpfspls6xq0pzzm_dl4ylxc0000gn/T/ipykernel_7186/198327255.py:4: FutureWarning: Series.__getitem__ treating keys as positions is deprecated. In a future version, integer keys will always be treated as labels (consistent with DataFrame behavior). To access a value by position, use `ser.iloc[pos]`\n",
      "  if data_eth[\"close\"][a] > data_eth[\"close\"][a-1]:\n"
     ]
    }
   ],
   "source": [
    "count = 0\n",
    "for a in range(1, len(data_btc)):\n",
    "    if data_btc[\"close\"][a] > data_btc[\"close\"][a-1]:\n",
    "        if data_eth[\"close\"][a] > data_eth[\"close\"][a-1]:\n",
    "            count += 1\n",
    "    else:\n",
    "        if data_eth[\"close\"][a] < data_eth[\"close\"][a-1]:\n",
    "            count += 1\n",
    "\n",
    "print(count/len(data_btc))  "
   ]
  },
  {
   "cell_type": "code",
   "execution_count": null,
   "metadata": {},
   "outputs": [],
   "source": [
    "\n"
   ]
  }
 ],
 "metadata": {
  "kernelspec": {
   "display_name": "Python 3",
   "language": "python",
   "name": "python3"
  },
  "language_info": {
   "codemirror_mode": {
    "name": "ipython",
    "version": 3
   },
   "file_extension": ".py",
   "mimetype": "text/x-python",
   "name": "python",
   "nbconvert_exporter": "python",
   "pygments_lexer": "ipython3",
   "version": "3.12.4"
  }
 },
 "nbformat": 4,
 "nbformat_minor": 2
}
