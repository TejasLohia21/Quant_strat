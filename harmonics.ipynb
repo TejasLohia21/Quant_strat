{
 "cells": [
  {
   "cell_type": "code",
   "execution_count": 2,
   "metadata": {},
   "outputs": [
    {
     "name": "stdout",
     "output_type": "stream",
     "text": [
      "   Unnamed: 0             datetime      open      high       low     close  \\\n",
      "0           0  2019-09-08 17:30:00  10000.00  10000.00  10000.00  10000.00   \n",
      "1           1  2019-09-08 18:00:00  10000.00  10000.00  10000.00  10000.00   \n",
      "2           2  2019-09-08 18:30:00  10000.00  10000.00  10000.00  10000.00   \n",
      "3           3  2019-09-08 19:00:00  10344.77  10357.53  10342.90  10354.62   \n",
      "4           4  2019-09-08 19:30:00  10354.62  10357.35  10337.43  10340.12   \n",
      "\n",
      "    volume  \n",
      "0    0.002  \n",
      "1    0.000  \n",
      "2    0.000  \n",
      "3  136.177  \n",
      "4  335.482  \n"
     ]
    }
   ],
   "source": [
    "import pandas as pd\n",
    "import numpy as np\n",
    "from scipy.signal import argrelextrema\n",
    "import matplotlib.pyplot as plt\n",
    "from untrade.client import Client\n",
    "import plotly.graph_objects as go\n",
    "\n",
    "\n",
    "from scipy.signal import argrelextrema\n",
    "\n",
    "\n",
    "data = pd.read_csv(\n",
    "    '/Users/tejasmacipad/Desktop/Final_inter_IIT_submission/BTC/BTC_2019_2023_30m.csv',\n",
    "    # parse_dates=['datetime'],  # Parse the 'datetime' column as datetime\n",
    "    # index_col='datetime'       # Use 'datetime' as the index\n",
    ")\n",
    "\n",
    "print(data.head())"
   ]
  },
  {
   "cell_type": "code",
   "execution_count": 3,
   "metadata": {},
   "outputs": [],
   "source": [
    "import numpy as np\n",
    "import pandas as pd\n",
    "from scipy.signal import argrelextrema\n",
    "import plotly.graph_objects as go\n",
    "\n",
    "def extract_extremes(price_values, i, order_dec):\n",
    "    max_idx = list(argrelextrema(price_values[:i], np.greater, order=order_dec)[0])\n",
    "    min_idx = list(argrelextrema(price_values[:i], np.less, order=order_dec)[0])\n",
    "    idx = max_idx + min_idx + [len(price_values[:i]) - 1]\n",
    "    idx.sort()\n",
    "    current_idx = idx[-5:]\n",
    "    current_pat = price_values[current_idx]\n",
    "    return current_idx, current_pat\n",
    "\n",
    "def identify_pattern(current_idx, current_pat, err_allowed, ab, bc, cd):\n",
    "    XA, AB, BC, CD = np.diff(current_pat)\n",
    "    \n",
    "    AB_range = np.array([ab[0] - err_allowed, ab[1] + err_allowed]) * abs(XA)\n",
    "    BC_range = np.array([bc[0] - err_allowed, bc[1] + err_allowed]) * abs(AB)\n",
    "    CD_range = np.array([cd[0] - err_allowed, cd[1] + err_allowed]) * abs(BC)\n",
    "\n",
    "    abs_AB, abs_BC, abs_CD = map(abs, (AB, BC, CD))\n",
    "\n",
    "    if XA > 0 and AB < 0 and BC > 0 and CD < 0:\n",
    "        if AB_range[0] < abs_AB < AB_range[1] and BC_range[0] < abs_BC < BC_range[1] and CD_range[0] < abs_CD < CD_range[1]:\n",
    "            return 1, current_idx\n",
    "    elif XA < 0 and AB > 0 and BC < 0 and CD > 0:\n",
    "        if AB_range[0] < abs_AB < AB_range[1] and BC_range[0] < abs_BC < BC_range[1] and CD_range[0] < abs_CD < CD_range[1]:\n",
    "            return -1, current_idx\n",
    "    return np.nan, []\n",
    "\n",
    "harmonic_patterns = {\n",
    "    \"Butterfly\": ([0.786, 0.786], [0.382, 0.886], [1.618, 2.618]),\n",
    "    \"Gartley\": ([0.618, 0.618], [0.382, 0.886], [1.272, 1.618]),\n",
    "    \"Cypher\": ([0.382, 0.618], [1.272, 1.414], [0.786, 1.786]),\n",
    "    \"Bat\": ([0.382, 0.5], [0.382, 0.886], [1.618, 2.618]),\n",
    "    \"AltBat\": ([0.382, 0.382], [0.382, 0.886], [2.0, 3.618]),\n",
    "    \"Crab\": ([0.382, 0.618], [0.382, 0.886], [2.24, 3.618]),\n",
    "    \"DeepCrab\": ([0.886, 0.886], [0.382, 0.886], [2.618, 3.618]),\n",
    "    \"Shark\": ([0.382, 0.886], [1.13, 1.618], [1.618, 2.24]),\n",
    "    \"WhiteSwan\": ([1.382, 2.618], [0.236, 0.5], [1.128, 2.0]),\n",
    "    \"BlackSwan\": ([0.382, 0.724], [2.0, 4.237], [0.5, 0.886])\n",
    "}\n",
    "\n",
    "def detect_harmonic_pattern(price, order_dec=5, err_allowed=0.1):\n",
    "    signals = {pattern: [] for pattern in harmonic_patterns}\n",
    "    patterns = {pattern: [] for pattern in harmonic_patterns}\n",
    "    \n",
    "    for i in range(100, len(price)):\n",
    "        current_idx, current_pat = extract_extremes(price.values, i, order_dec)\n",
    "\n",
    "        for pattern_name, ratios in harmonic_patterns.items():\n",
    "            pattern_signal, pattern_idx = identify_pattern(current_idx, current_pat, err_allowed, *ratios)\n",
    "            signals[pattern_name].append(pattern_signal)\n",
    "            if not np.isnan(pattern_signal):\n",
    "                patterns[pattern_name].append((pattern_signal, pattern_idx))\n",
    "    \n",
    "    return signals, patterns\n",
    "\n",
    "def plot_harmonic_patterns(df, patterns):\n",
    "    fig = go.Figure()\n",
    "    fig.add_trace(go.Candlestick(x=df.index, \n",
    "                                 open=df['open'], \n",
    "                                 high=df['high'], \n",
    "                                 low=df['low'], \n",
    "                                 close=df['close'], \n",
    "                                 name='Candlesticks'))\n",
    "    \n",
    "    colors = {\n",
    "        \"Butterfly\": \"blue\", \"Bat\": \"green\", \"AltBat\": \"purple\",\n",
    "        \"Crab\": \"red\", \"DeepCrab\": \"pink\", \"Cypher\": \"orange\",\n",
    "        \"Gartley\": \"cyan\", \"Shark\": \"yellow\", \"WhiteSwan\": \"black\", \"BlackSwan\": \"brown\"\n",
    "    }\n",
    "    \n",
    "    for pattern_name, pattern_list in patterns.items():\n",
    "        for signal, indices in pattern_list:\n",
    "            x_vals = df.index[indices]\n",
    "            y_vals = df.close.iloc[indices]\n",
    "            fig.add_trace(go.Scatter(\n",
    "                x=x_vals, y=y_vals, mode='lines+markers',\n",
    "                line=dict(color=colors[pattern_name], width=2),\n",
    "                marker=dict(size=8, color=colors[pattern_name]),\n",
    "                name=f\"{pattern_name} {'Bullish' if signal == 1 else 'Bearish'}\"\n",
    "            ))\n",
    "\n",
    "    fig.update_layout(title='Harmonic Patterns',\n",
    "                      xaxis_title='Date',\n",
    "                      yaxis_title='Price',\n",
    "                      xaxis_rangeslider_visible=False)\n",
    "    fig.show()\n",
    "\n",
    "\n",
    "# Detect harmonic patterns\n",
    "signals, patterns = detect_harmonic_pattern(data['close'])\n",
    "\n",
    "# Plot the patterns\n",
    "# plot_harmonic_patterns(data, patterns)\n"
   ]
  },
  {
   "cell_type": "code",
   "execution_count": 4,
   "metadata": {},
   "outputs": [
    {
     "data": {
      "application/vnd.jupyter.widget-view+json": {
       "model_id": "28e7b78959b9480fa7abdc50a00217c3",
       "version_major": 2,
       "version_minor": 0
      },
      "text/plain": [
       "Label(value='Pattern: Butterfly')"
      ]
     },
     "metadata": {},
     "output_type": "display_data"
    },
    {
     "data": {
      "application/vnd.jupyter.widget-view+json": {
       "model_id": "aa4ba61c72c24a90bb3d023d27d471ce",
       "version_major": 2,
       "version_minor": 0
      },
      "text/plain": [
       "IntSlider(value=0, description='Butterfly Index', max=255)"
      ]
     },
     "metadata": {},
     "output_type": "display_data"
    },
    {
     "data": {
      "application/vnd.jupyter.widget-view+json": {
       "model_id": "b85b3234d73f40bab08de82ca31a1f32",
       "version_major": 2,
       "version_minor": 0
      },
      "text/plain": [
       "Output()"
      ]
     },
     "metadata": {},
     "output_type": "display_data"
    },
    {
     "data": {
      "application/vnd.jupyter.widget-view+json": {
       "model_id": "4a4bbe657cd1420f88b695b42bbdaee2",
       "version_major": 2,
       "version_minor": 0
      },
      "text/plain": [
       "Label(value='Pattern: Gartley')"
      ]
     },
     "metadata": {},
     "output_type": "display_data"
    },
    {
     "data": {
      "application/vnd.jupyter.widget-view+json": {
       "model_id": "a4f595ee1cfb4bbab85be1360e3bab5a",
       "version_major": 2,
       "version_minor": 0
      },
      "text/plain": [
       "IntSlider(value=0, description='Gartley Index', max=203)"
      ]
     },
     "metadata": {},
     "output_type": "display_data"
    },
    {
     "data": {
      "application/vnd.jupyter.widget-view+json": {
       "model_id": "f3f22c8daeef45cb9e8b858d9b6982eb",
       "version_major": 2,
       "version_minor": 0
      },
      "text/plain": [
       "Output()"
      ]
     },
     "metadata": {},
     "output_type": "display_data"
    },
    {
     "data": {
      "application/vnd.jupyter.widget-view+json": {
       "model_id": "763ddaec80ed4fafa291153303218cbe",
       "version_major": 2,
       "version_minor": 0
      },
      "text/plain": [
       "Label(value='Pattern: Cypher')"
      ]
     },
     "metadata": {},
     "output_type": "display_data"
    },
    {
     "data": {
      "application/vnd.jupyter.widget-view+json": {
       "model_id": "ac2228dc84cc412db9a6f281ada0ea4a",
       "version_major": 2,
       "version_minor": 0
      },
      "text/plain": [
       "IntSlider(value=0, description='Cypher Index', max=398)"
      ]
     },
     "metadata": {},
     "output_type": "display_data"
    },
    {
     "data": {
      "application/vnd.jupyter.widget-view+json": {
       "model_id": "7cc557a963914de78940dd3d500929cc",
       "version_major": 2,
       "version_minor": 0
      },
      "text/plain": [
       "Output()"
      ]
     },
     "metadata": {},
     "output_type": "display_data"
    },
    {
     "data": {
      "application/vnd.jupyter.widget-view+json": {
       "model_id": "c94b63b96c2748d89896f15e38b7382f",
       "version_major": 2,
       "version_minor": 0
      },
      "text/plain": [
       "Label(value='Pattern: Bat')"
      ]
     },
     "metadata": {},
     "output_type": "display_data"
    },
    {
     "data": {
      "application/vnd.jupyter.widget-view+json": {
       "model_id": "83a080a3c0fa458ea24d693b1975dd6f",
       "version_major": 2,
       "version_minor": 0
      },
      "text/plain": [
       "IntSlider(value=0, description='Bat Index', max=338)"
      ]
     },
     "metadata": {},
     "output_type": "display_data"
    },
    {
     "data": {
      "application/vnd.jupyter.widget-view+json": {
       "model_id": "b1123e2e465641918ca649c0deefb39c",
       "version_major": 2,
       "version_minor": 0
      },
      "text/plain": [
       "Output()"
      ]
     },
     "metadata": {},
     "output_type": "display_data"
    },
    {
     "data": {
      "application/vnd.jupyter.widget-view+json": {
       "model_id": "7b0814eec08649db9026ad8754648463",
       "version_major": 2,
       "version_minor": 0
      },
      "text/plain": [
       "Label(value='Pattern: AltBat')"
      ]
     },
     "metadata": {},
     "output_type": "display_data"
    },
    {
     "data": {
      "application/vnd.jupyter.widget-view+json": {
       "model_id": "8fa90a90970b4b888603f0b64334a52d",
       "version_major": 2,
       "version_minor": 0
      },
      "text/plain": [
       "IntSlider(value=0, description='AltBat Index', max=166)"
      ]
     },
     "metadata": {},
     "output_type": "display_data"
    },
    {
     "data": {
      "application/vnd.jupyter.widget-view+json": {
       "model_id": "159f1d78372d4d49b43310c151929cf7",
       "version_major": 2,
       "version_minor": 0
      },
      "text/plain": [
       "Output()"
      ]
     },
     "metadata": {},
     "output_type": "display_data"
    },
    {
     "data": {
      "application/vnd.jupyter.widget-view+json": {
       "model_id": "d9eb8b98c2e042d2b71ac9c4bd1d0b87",
       "version_major": 2,
       "version_minor": 0
      },
      "text/plain": [
       "Label(value='Pattern: Crab')"
      ]
     },
     "metadata": {},
     "output_type": "display_data"
    },
    {
     "data": {
      "application/vnd.jupyter.widget-view+json": {
       "model_id": "92a4bb92959945b2ba27320107e961c3",
       "version_major": 2,
       "version_minor": 0
      },
      "text/plain": [
       "IntSlider(value=0, description='Crab Index', max=341)"
      ]
     },
     "metadata": {},
     "output_type": "display_data"
    },
    {
     "data": {
      "application/vnd.jupyter.widget-view+json": {
       "model_id": "1037e97d47b0467ab4c7316da7b04b49",
       "version_major": 2,
       "version_minor": 0
      },
      "text/plain": [
       "Output()"
      ]
     },
     "metadata": {},
     "output_type": "display_data"
    },
    {
     "data": {
      "application/vnd.jupyter.widget-view+json": {
       "model_id": "862258c359714d5e81136228bede59ec",
       "version_major": 2,
       "version_minor": 0
      },
      "text/plain": [
       "Label(value='Pattern: DeepCrab')"
      ]
     },
     "metadata": {},
     "output_type": "display_data"
    },
    {
     "data": {
      "application/vnd.jupyter.widget-view+json": {
       "model_id": "59017af2d85e4cea848dd53c3b49d72c",
       "version_major": 2,
       "version_minor": 0
      },
      "text/plain": [
       "IntSlider(value=0, description='DeepCrab Index', max=113)"
      ]
     },
     "metadata": {},
     "output_type": "display_data"
    },
    {
     "data": {
      "application/vnd.jupyter.widget-view+json": {
       "model_id": "32fd1191f89047d9b6ea1f94a74ec026",
       "version_major": 2,
       "version_minor": 0
      },
      "text/plain": [
       "Output()"
      ]
     },
     "metadata": {},
     "output_type": "display_data"
    },
    {
     "data": {
      "application/vnd.jupyter.widget-view+json": {
       "model_id": "79dcd86a17c14746a78467622068c8c8",
       "version_major": 2,
       "version_minor": 0
      },
      "text/plain": [
       "Label(value='Pattern: Shark')"
      ]
     },
     "metadata": {},
     "output_type": "display_data"
    },
    {
     "data": {
      "application/vnd.jupyter.widget-view+json": {
       "model_id": "77ee18012a5d4c97a968b6574423a365",
       "version_major": 2,
       "version_minor": 0
      },
      "text/plain": [
       "IntSlider(value=0, description='Shark Index', max=202)"
      ]
     },
     "metadata": {},
     "output_type": "display_data"
    },
    {
     "data": {
      "application/vnd.jupyter.widget-view+json": {
       "model_id": "37a3b4dfa845432faddea635e3c7ceab",
       "version_major": 2,
       "version_minor": 0
      },
      "text/plain": [
       "Output()"
      ]
     },
     "metadata": {},
     "output_type": "display_data"
    },
    {
     "data": {
      "application/vnd.jupyter.widget-view+json": {
       "model_id": "d371adfc1fb04ca6bdc88c75bbc9cf06",
       "version_major": 2,
       "version_minor": 0
      },
      "text/plain": [
       "Label(value='Pattern: WhiteSwan')"
      ]
     },
     "metadata": {},
     "output_type": "display_data"
    },
    {
     "data": {
      "application/vnd.jupyter.widget-view+json": {
       "model_id": "e70cf289bfec4ef4b3d05089150f6313",
       "version_major": 2,
       "version_minor": 0
      },
      "text/plain": [
       "IntSlider(value=0, description='WhiteSwan Index', max=408)"
      ]
     },
     "metadata": {},
     "output_type": "display_data"
    },
    {
     "data": {
      "application/vnd.jupyter.widget-view+json": {
       "model_id": "34de7bbeb8f64286bbcd3c131c06685f",
       "version_major": 2,
       "version_minor": 0
      },
      "text/plain": [
       "Output()"
      ]
     },
     "metadata": {},
     "output_type": "display_data"
    },
    {
     "data": {
      "application/vnd.jupyter.widget-view+json": {
       "model_id": "5891ce193162435fbf3a228b9dfb7833",
       "version_major": 2,
       "version_minor": 0
      },
      "text/plain": [
       "Label(value='Pattern: BlackSwan')"
      ]
     },
     "metadata": {},
     "output_type": "display_data"
    },
    {
     "data": {
      "application/vnd.jupyter.widget-view+json": {
       "model_id": "974f7e178ecf4b8897c90cf8fe5aa855",
       "version_major": 2,
       "version_minor": 0
      },
      "text/plain": [
       "IntSlider(value=0, description='BlackSwan Index', max=968)"
      ]
     },
     "metadata": {},
     "output_type": "display_data"
    },
    {
     "data": {
      "application/vnd.jupyter.widget-view+json": {
       "model_id": "97401aeedc094d45b7a61529545d80a5",
       "version_major": 2,
       "version_minor": 0
      },
      "text/plain": [
       "Output()"
      ]
     },
     "metadata": {},
     "output_type": "display_data"
    }
   ],
   "source": [
    "import plotly.graph_objects as go\n",
    "import ipywidgets as widgets\n",
    "from IPython.display import display, clear_output\n",
    "def WMA(data, window_size):\n",
    "    weights = np.arange(1, window_size + 1)\n",
    "    return data.rolling(window=window_size).apply(lambda x: np.dot(x, weights)/weights.sum(), raw=True)\n",
    "\n",
    "def HMA(data, window_size):\n",
    "    return WMA(2 * WMA(data, window_size//2) - WMA(data, window_size), int(np.sqrt(window_size)))\n",
    "\n",
    "def plot_harmonic_patterns(df, patterns):\n",
    "    output_dict = {}\n",
    "    period  = 26\n",
    "    hma = HMA(df['close'], period)\n",
    "\n",
    "    for pattern_name, pattern_list in patterns.items():\n",
    "        if not pattern_list:\n",
    "            continue  # Skip patterns that have no occurrences\n",
    "\n",
    "        slider = widgets.IntSlider(min=0, max=len(pattern_list) - 1, step=1, description=f\"{pattern_name} Index\")\n",
    "        output = widgets.Output()\n",
    "        output_dict[pattern_name] = (slider, output)\n",
    "\n",
    "        def update_plot(pattern_idx, pattern_name=pattern_name):\n",
    "            with output_dict[pattern_name][1]:\n",
    "                clear_output()\n",
    "                signal, indices = patterns[pattern_name][pattern_idx]\n",
    "\n",
    "                start = max(indices[0] - 20, 0)\n",
    "                end = min(indices[-1] + 20, len(df) - 1)\n",
    "\n",
    "                fig = go.Figure()\n",
    "                fig.add_trace(go.Candlestick(\n",
    "                    x=df.index[start:end],\n",
    "                    open=df['open'][start:end],\n",
    "                    high=df['high'][start:end],\n",
    "                    low=df['low'][start:end],\n",
    "                    close=df['close'][start:end],\n",
    "                    name='Candlesticks'\n",
    "                ))\n",
    "\n",
    "                fig.add_trace(go.Scatter(\n",
    "                    x=df.index[indices], y=df.close.iloc[indices], mode='lines+markers',\n",
    "                    line=dict(color='blue' if signal == 1 else 'red', width=2),\n",
    "                    marker=dict(size=8, color='blue' if signal == 1 else 'red'),\n",
    "                    name=f\"{pattern_name} {'Bullish' if signal == 1 else 'Bearish'}\"\n",
    "                ))\n",
    "\n",
    "                # Add HMA\n",
    "                fig.add_trace(go.Scatter(\n",
    "                    x=df.index[start:end],\n",
    "                    y=hma[start:end],\n",
    "                    mode='lines',\n",
    "                    line=dict(color='purple', width=1),\n",
    "                    name=f'HMA ({period})'\n",
    "                ))\n",
    "\n",
    "                fig.update_layout(\n",
    "                    title=f'{pattern_name} Pattern - Occurrence {pattern_idx + 1}',\n",
    "                    xaxis_title='Date',\n",
    "                    yaxis_title='Price',\n",
    "                    xaxis_rangeslider_visible=False\n",
    "                )\n",
    "\n",
    "                fig.show()\n",
    "\n",
    "        display(widgets.Label(f\"Pattern: {pattern_name}\"), slider, output)\n",
    "        widgets.interactive(update_plot, pattern_idx=slider)\n",
    "        update_plot(0)\n",
    "\n",
    "# Example usage\n",
    "plot_harmonic_patterns(data, patterns)"
   ]
  },
  {
   "cell_type": "code",
   "execution_count": null,
   "metadata": {},
   "outputs": [],
   "source": []
  }
 ],
 "metadata": {
  "kernelspec": {
   "display_name": "arch",
   "language": "python",
   "name": "python3"
  },
  "language_info": {
   "codemirror_mode": {
    "name": "ipython",
    "version": 3
   },
   "file_extension": ".py",
   "mimetype": "text/x-python",
   "name": "python",
   "nbconvert_exporter": "python",
   "pygments_lexer": "ipython3",
   "version": "3.12.9"
  }
 },
 "nbformat": 4,
 "nbformat_minor": 2
}
