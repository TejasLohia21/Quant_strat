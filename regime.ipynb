{
 "cells": [
  {
   "cell_type": "markdown",
   "metadata": {},
   "source": [
    "Use of Hidden Markov models for market regime prediction from 2019 December to 2023 December."
   ]
  },
  {
   "cell_type": "code",
   "execution_count": 1,
   "metadata": {},
   "outputs": [
    {
     "name": "stdout",
     "output_type": "stream",
     "text": [
      "MPS is available and in use!\n"
     ]
    }
   ],
   "source": [
    "import torch\n",
    "if torch.backends.mps.is_available():\n",
    "    device = torch.device(\"mps\")  \n",
    "    print(\"MPS is available and in use!\")\n",
    "else:\n",
    "    print(\"MPS is not available. Using CPU instead.\")\n",
    "    device = torch.device(\"cpu\")"
   ]
  },
  {
   "cell_type": "code",
   "execution_count": 2,
   "metadata": {},
   "outputs": [],
   "source": [
    "import numpy as np\n",
    "import pandas as pd\n",
    "import torch\n",
    "import torch.nn as nn\n",
    "import torch.optim as optim\n",
    "from sklearn.preprocessing import MinMaxScaler\n",
    "\n",
    "data_main = pd.read_csv(\n",
    "    '/Users/tejasmacipad/Desktop/Final_inter_IIT_submission/BTC/BTC_2019_2023_1h.csv',\n",
    "    parse_dates=['datetime'],  # Parse the 'datetime' column as datetime\n",
    "    index_col='datetime'       # Use 'datetime' as the index\n",
    ")\n",
    "\n",
    "train_size = int(len(data_main) * 0.8)\n",
    "df = data_main.iloc[:train_size]\n",
    "test_data = data_main.iloc[train_size:]\n"
   ]
  },
  {
   "cell_type": "code",
   "execution_count": 3,
   "metadata": {},
   "outputs": [],
   "source": [
    "freq = 6"
   ]
  },
  {
   "cell_type": "code",
   "execution_count": 4,
   "metadata": {},
   "outputs": [
    {
     "name": "stdout",
     "output_type": "stream",
     "text": [
      "Epoch 1/15, Loss: 1309.5800\n",
      "Epoch 2/15, Loss: 1309.4416\n",
      "Epoch 3/15, Loss: 1309.4144\n",
      "Epoch 4/15, Loss: 1309.4140\n",
      "Epoch 5/15, Loss: 1309.3433\n",
      "Epoch 6/15, Loss: 1309.3308\n",
      "Epoch 7/15, Loss: 1309.2611\n",
      "Epoch 8/15, Loss: 1309.2900\n",
      "Epoch 9/15, Loss: 1309.1793\n",
      "Epoch 10/15, Loss: 1309.2122\n",
      "Epoch 11/15, Loss: 1309.2000\n",
      "Epoch 12/15, Loss: 1308.9975\n",
      "Epoch 13/15, Loss: 1309.1461\n",
      "Epoch 14/15, Loss: 1308.9029\n",
      "Epoch 15/15, Loss: 1308.9299\n"
     ]
    }
   ],
   "source": [
    "features = ['open', 'high', 'low', 'close', 'volume']\n",
    "scaler = MinMaxScaler(feature_range=(0, 1))\n",
    "# df[features] = scaler.fit_transform(df[features])  \n",
    "\n",
    "# df['trend'] = df['close'].shift(-freq) - df['close']  \n",
    "# df['trend'] = np.where(df['trend'] > 0, 1, 0) \n",
    "df = df.copy() \n",
    "\n",
    "df.loc[:, features] = scaler.fit_transform(df[features])\n",
    "\n",
    "df['trend'] = df['close'].shift(-freq) - df['close']\n",
    "df['trend'] = np.where(df['trend'] > 0, 1, 0)\n",
    "\n",
    "data = df[features + ['trend']].values\n",
    "\n",
    "def create_sequences(data, seq_length=freq):\n",
    "    X, y = [], []\n",
    "    for i in range(len(data) - seq_length):\n",
    "        X.append(data[i:i+seq_length, :-1]) \n",
    "        y.append(data[i+seq_length, -1])    \n",
    "    return np.array(X), np.array(y)\n",
    "\n",
    "seq_length = freq  \n",
    "X, y = create_sequences(data, seq_length)\n",
    "\n",
    "X = torch.tensor(X, dtype=torch.float32)\n",
    "y = torch.tensor(y, dtype=torch.float32).view(-1, 1)\n",
    "\n",
    "class LSTMModel(nn.Module):\n",
    "    def __init__(self, input_size, hidden_size=64):\n",
    "        super(LSTMModel, self).__init__()\n",
    "        self.lstm = nn.LSTM(input_size, hidden_size, batch_first=True)\n",
    "        self.fc = nn.Linear(hidden_size, 1)\n",
    "        self.sigmoid = nn.Sigmoid()\n",
    "\n",
    "    def forward(self, x):\n",
    "        lstm_out, _ = self.lstm(x)\n",
    "        out = self.fc(lstm_out[:, -1, :])  \n",
    "        return self.sigmoid(out)\n",
    "\n",
    "input_size = len(features)  \n",
    "model = LSTMModel(input_size)\n",
    "criterion = nn.BCELoss() \n",
    "optimizer = optim.Adam(model.parameters(), lr=0.001)\n",
    "\n",
    "epochs = 15\n",
    "batch_size = 16\n",
    "for epoch in range(epochs):\n",
    "    permutation = torch.randperm(X.size(0))  \n",
    "    epoch_loss = 0\n",
    "    for i in range(0, X.size(0), batch_size):\n",
    "        indices = permutation[i:i+batch_size]\n",
    "        batch_X, batch_y = X[indices], y[indices]\n",
    "\n",
    "        optimizer.zero_grad()\n",
    "        outputs = model(batch_X)\n",
    "        loss = criterion(outputs, batch_y)\n",
    "        loss.backward()\n",
    "        optimizer.step()\n",
    "        epoch_loss += loss.item()\n",
    "\n",
    "    print(f\"Epoch {epoch+1}/{epochs}, Loss: {epoch_loss:.4f}\")"
   ]
  },
  {
   "cell_type": "code",
   "execution_count": 5,
   "metadata": {},
   "outputs": [
    {
     "data": {
      "text/plain": [
       "datetime\n",
       "2019-09-08 17:00:00    1\n",
       "2019-09-08 18:00:00    1\n",
       "2019-09-08 19:00:00    0\n",
       "2019-09-08 20:00:00    0\n",
       "2019-09-08 21:00:00    0\n",
       "2019-09-08 22:00:00    0\n",
       "2019-09-08 23:00:00    0\n",
       "2019-09-09 00:00:00    0\n",
       "2019-09-09 01:00:00    0\n",
       "2019-09-09 02:00:00    0\n",
       "2019-09-09 03:00:00    0\n",
       "2019-09-09 04:00:00    1\n",
       "2019-09-09 05:00:00    1\n",
       "2019-09-09 06:00:00    1\n",
       "2019-09-09 07:00:00    1\n",
       "2019-09-09 08:00:00    1\n",
       "2019-09-09 09:00:00    1\n",
       "2019-09-09 10:00:00    1\n",
       "2019-09-09 11:00:00    0\n",
       "2019-09-09 12:00:00    0\n",
       "Name: trend, dtype: int64"
      ]
     },
     "execution_count": 5,
     "metadata": {},
     "output_type": "execute_result"
    }
   ],
   "source": [
    "df[\"trend\"].head(20)"
   ]
  },
  {
   "cell_type": "code",
   "execution_count": 6,
   "metadata": {},
   "outputs": [],
   "source": [
    "def simulate_trading(test_data, test_dates, output_file=\"trading_results\"):\n",
    "    \"\"\" Simulates trading with rolling window prediction and saves results to CSV & Excel \"\"\"\n",
    "    test_seq = test_data[:seq_length, :-1].tolist() \n",
    "    results = [] \n",
    "\n",
    "    for i in range(len(test_data)):\n",
    "        date = test_dates[i]  \n",
    "\n",
    "        if i < seq_length:\n",
    "            results.append([date, \"NULL\"]) \n",
    "            continue\n",
    "\n",
    "        new_day = test_data[i, :-1]  \n",
    "        test_seq.append(new_day)\n",
    "\n",
    "        test_seq = test_seq[-seq_length:]\n",
    "\n",
    "        input_data = torch.tensor(test_seq, dtype=torch.float32).unsqueeze(0)\n",
    "\n",
    "        prediction = model(input_data).item()\n",
    "        trend = \"Bullish\" if prediction > 0.5 else \"Bearish\"\n",
    "\n",
    "        results.append([date, trend])\n",
    "\n",
    "    results_df = pd.DataFrame(results, columns=[\"Date\", \"Market Trend\"])\n",
    "\n",
    "    results_df.to_csv(f\"{output_file}.csv\", index=False)\n",
    "    results_df.to_excel(f\"{output_file}.xlsx\", index=False)\n",
    "\n",
    "\n",
    "    print(f\"Results saved to {output_file}.csv and {output_file}.xlsx\")"
   ]
  },
  {
   "cell_type": "code",
   "execution_count": null,
   "metadata": {},
   "outputs": [],
   "source": [
    "test_data = test_data.copy()\n",
    "test_data['trend'] = test_data['close'].shift(-40) - test_data['close']\n",
    "test_data['trend'] = np.where(test_data['trend'] > 0, 1, 0)\n",
    "\n",
    "test_data[features] = scaler.transform(test_data[features])\n",
    "\n",
    "test_data_output = test_data[features + ['trend']].values \n",
    "\n",
    "simulate_trading(test_data_output, test_data.index)"
   ]
  },
  {
   "cell_type": "code",
   "execution_count": null,
   "metadata": {},
   "outputs": [],
   "source": [
    "import numpy as np\n",
    "import hmmlearn as hmm\n",
    "\n",
    "# We will take the market to have 3 states, bullish, bearish and neutral and use these\n",
    "n_states = 3\n",
    "n_observations = 3\n",
    "\n",
    "model = hmm.CategoricalHMM(n_components = n_states)\n",
    "#Defining start probabilities\n",
    "model.startprob_ = np.array([0.4, 0.3, 0.3])\n",
    "# Defining state transition probabilities\n",
    "model.transmat_ = np.array([\n",
    "    [0.5, 0.3, 0.2],\n",
    "    [0.4, 0.4, 0.2],\n",
    "    [0.5, 0.4, 0.1]\n",
    "    ])\n",
    "# Defining emission probabilities \n",
    "model.emissionprob_ = np.array([\n",
    "    [0.8, 0.1, 0.1],\n",
    "    [0.1, 0.8, 0.1],\n",
    "    [0.1, 0.1, 0.8]\n",
    "])\n",
    "\n",
    "# Writing observations here (Write actual observations using data given)\n",
    "df['Market_state'] = [x if x == 1 else y if y == 1 else z for x, y, z in zip(df['Bullish_yesterday'], df['Bearish_Yesterday'], df['Neutral_yesterday'])]\n",
    "\n",
    "observations = df['Market_state'].T\n",
    "\n",
    "hidden_states = model.predict(observations) \n",
    "df = pd.concat([df, hidden_states], axis=1)\n",
    "\n",
    "\n",
    "\n",
    "\n",
    "\n",
    "\n",
    "\n",
    "# Trading based on HMM\n",
    "if (\n",
    "df['hidden_states'].iloc[i] == 0\n",
    "):\n",
    "df.loc[df.index[i], 'Signal'] = 1\n",
    "df.loc[df.index[i], 'trade'] = 1\n",
    "df.loc[df.index[i], 'trade_type'] = \"long\"\n",
    "df.loc[df.index[i], 'SL'] = df['close'].iloc[i] - 1.5 * df['ATR'].iloc[i]\n",
    "df.loc[df.index[i], 'TP'] = df['close'].iloc[i] + 3 * df['ATR'].iloc[i]\n",
    "\n",
    "if (\n",
    "df['hidden_states'].iloc[i] == 1\n",
    "):\n",
    "df.loc[df.index[i], 'Signal'] = -1\n",
    "df.loc[df.index[i], 'trade'] = -1\n",
    "df.loc[df.index[i], 'trade_type'] = \"short\"\n",
    "df.loc[df.index[i], 'SL'] = df['close'].iloc[i] - 1.5 * df['ATR'].iloc[i]\n",
    "df.loc[df.index[i], 'TP'] = df['close'].iloc[i] + 3 * df['ATR'].iloc[i]\n",
    "\n",
    "if (\n",
    "df['hidden_states'].iloc[i] == 2\n",
    "):\n",
    "df.loc[df.index[i], 'Signal'] = 0\n",
    "df.loc[df.index[i], 'trade'] = 0\n",
    "df.loc[df.index[i], 'trade_type'] = \"neutral\"\n",
    "df.loc[df.index[i], 'SL'] = df['close'].iloc[i] - 1.5 * df['ATR'].iloc[i]\n",
    "df.loc[df.index[i], 'TP'] = df['close'].iloc[i] + 3 * df['ATR'].iloc[i]"
   ]
  }
 ],
 "metadata": {
  "kernelspec": {
   "display_name": "Python 3",
   "language": "python",
   "name": "python3"
  },
  "language_info": {
   "codemirror_mode": {
    "name": "ipython",
    "version": 3
   },
   "file_extension": ".py",
   "mimetype": "text/x-python",
   "name": "python",
   "nbconvert_exporter": "python",
   "pygments_lexer": "ipython3",
   "version": "3.12.4"
  }
 },
 "nbformat": 4,
 "nbformat_minor": 2
}
